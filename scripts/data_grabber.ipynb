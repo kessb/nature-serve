{
 "cells": [
  {
   "cell_type": "code",
   "execution_count": null,
   "metadata": {},
   "outputs": [],
   "source": [
    "def open_NEON_presence_cover_plant(site,date):\n",
    "    '''Uses API call to retrieve NEON product data\n",
    "    for vegetation presence and coverage at a given \n",
    "    site and date. Returns pandas of 1 meter squared\n",
    "    and 10&100 meter squared documents. For more \n",
    "    information on NEON presence cover plant data\n",
    "    see https://data.neonscience.org/data-products/DP1.10058.001\n",
    "    Parameters\n",
    "    ----------\n",
    "    site : str\n",
    "        4 Letter site name. See \n",
    "        https://www.neonscience.org/field-sites/field-sites-map/list\n",
    "        for a full list of NEON sites\n",
    "    date : str\n",
    "        Date of data collection in yyyy-mm format\n",
    "    Returns\n",
    "    -------\n",
    "    small_subplot : pandas\n",
    "        Pandas of the 1x1 meter subplots\n",
    "    large_subplot : pandas \n",
    "        Pandas of the 10x10 and 100x100 meter\n",
    "        subplots\n",
    "    '''\n",
    "    data_product_url=['https://data.neonscience.org/api/v0/data/DP1.10058.001/'\n",
    "                      +site+'/'+date+'?package=expanded']\n",
    "    call_response = requests.get(data_product_url[0])\n",
    "    data_locations=[]\n",
    "    for i in call_response.json()['data']['files']:\n",
    "        data_file_url=i['url']\n",
    "        file_format=data_file_url.find('10m2Data')\n",
    "        if not file_format == -1:\n",
    "            data_locations.append(data_file_url)\n",
    "   # small_subplot = pd.read_csv(data_locations[1]).dropna(axis=1)\n",
    "    large_subplot = pd.read_csv(data_locations[0]).dropna(axis=1)\n",
    "    return large_subplot"
   ]
  }
 ],
 "metadata": {
  "kernelspec": {
   "display_name": "Python 3",
   "language": "python",
   "name": "python3"
  },
  "language_info": {
   "codemirror_mode": {
    "name": "ipython",
    "version": 3
   },
   "file_extension": ".py",
   "mimetype": "text/x-python",
   "name": "python",
   "nbconvert_exporter": "python",
   "pygments_lexer": "ipython3",
   "version": "3.7.6"
  }
 },
 "nbformat": 4,
 "nbformat_minor": 4
}
