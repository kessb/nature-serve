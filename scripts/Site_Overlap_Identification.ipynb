{
 "cells": [
  {
   "cell_type": "code",
   "execution_count": 1,
   "metadata": {
    "ExecuteTime": {
     "end_time": "2020-04-29T21:13:41.056068Z",
     "start_time": "2020-04-29T21:13:39.135929Z"
    }
   },
   "outputs": [],
   "source": [
    "# Import Packages\n",
    " \n",
    "import os\n",
    "from glob import glob\n",
    "import matplotlib.pyplot as plt\n",
    "import requests\n",
    "import urllib\n",
    "import pandas as pd\n",
    "from pandas.io.json import json_normalize\n",
    "import rasterstats as rs\n",
    "import numpy as np\n",
    "import pandas as pd\n",
    "import geopandas as gpd\n",
    "from shapely.geometry import shape\n",
    "from shapely.geometry import Polygon\n",
    "from shapely.geometry import box\n",
    "from shapely.geometry import Point\n",
    "import rasterio as rio\n",
    "from rasterio.mask import mask\n",
    "from rasterio.plot import plotting_extent\n",
    "import rasterstats as rs\n",
    "import earthpy as et\n",
    "import earthpy.plot as ep\n",
    "%run ./data_grabber.ipynb\n"
   ]
  },
  {
   "cell_type": "code",
   "execution_count": 2,
   "metadata": {
    "ExecuteTime": {
     "end_time": "2020-04-29T21:13:41.077071Z",
     "start_time": "2020-04-29T21:13:41.059069Z"
    }
   },
   "outputs": [],
   "source": [
    "def polygons_from_raster(tiles):\n",
    "    '''Takes a list of raster images, \n",
    "    ideally tiles from one site, and \n",
    "    creates a list of geodataframes\n",
    "    with raster plot extent as the \n",
    "    site geometry.\n",
    "    ----------\n",
    "    tiles : list\n",
    "        List of rasters\n",
    "    Returns\n",
    "    -------\n",
    "    CHM_tile_gdfs : list\n",
    "        List of geodataframes with raster plot\n",
    "        extent polygons in gdf format\n",
    "    '''\n",
    "    CHM_tile_gdfs=[]\n",
    "    extents=[]\n",
    "    for tile in tiles:\n",
    "        with rio.open(tile) as src:\n",
    "            extent=plotting_extent(src)\n",
    "    #raster polygon uses plotting extent for tif (chmCPERextent is plot extent)\n",
    "        tile_polygon = Polygon([[extent[0], extent[2]],\n",
    "                                  [extent[0], extent[3]],\n",
    "                                  [extent[1],extent[3]],\n",
    "                                  [extent[1],extent[2]]])\n",
    "\n",
    "\n",
    "    # Making geodataframe from newly made polygon\n",
    "        CHM_gdf = gpd.GeoDataFrame(crs=src.crs, geometry=[tile_polygon])\n",
    "        CHM_tile_gdfs.append(CHM_gdf)\n",
    "        extents.append(extent)\n",
    "    return CHM_tile_gdfs,extents"
   ]
  },
  {
   "cell_type": "code",
   "execution_count": 3,
   "metadata": {
    "ExecuteTime": {
     "end_time": "2020-04-29T21:13:54.231183Z",
     "start_time": "2020-04-29T21:13:41.082071Z"
    }
   },
   "outputs": [],
   "source": [
    "# Set working directory\n",
    "os.chdir(os.path.join(et.io.HOME,'earth-analytics'))\n",
    "\n",
    "# Get data\n",
    "CPER_tif_files=open_ecosystem_structure('CPER','2017-05')\n",
    "CPER_insitu_df=open_woody_veg_structure('CPER','2017-09')\n",
    "ONAQ_tif_files=open_ecosystem_structure('ONAQ','2017-06')\n",
    "ONAQ_insitu_df=open_woody_veg_structure('ONAQ','2017-09')"
   ]
  },
  {
   "cell_type": "code",
   "execution_count": 4,
   "metadata": {
    "ExecuteTime": {
     "end_time": "2020-04-29T21:13:54.488202Z",
     "start_time": "2020-04-29T21:13:54.233185Z"
    }
   },
   "outputs": [],
   "source": [
    "# Create shapefile of buffered insitu sites\n",
    "# Create paths\n",
    "CPER_buffered_points_path=os.path.join(\n",
    "    'data','NEON','CPER','outputs')\n",
    "ONAQ_buffered_points_path=os.path.join(\n",
    "    'data','NEON','ONAQ','outputs')\n",
    "\n",
    "# CPER buffered points\n",
    "CPER_insitu_gdf=gpd.GeoDataFrame(CPER_insitu_df,geometry=gpd.points_from_xy(\n",
    "    x=CPER_insitu_df.easting,y=CPER_insitu_df.northing),crs='epsg:32613')\n",
    "CPER_buffered_points=CPER_insitu_gdf.copy()\n",
    "CPER_buffered_points['geometry']=CPER_insitu_gdf.geometry.buffer(100)\n",
    "\n",
    "\n",
    "# CPER_buffered_points.to_file(os.path.join(\n",
    "#      CPER_buffered_points_path, 'CPER_buffered_points.shp'))\n",
    "\n",
    "# ONAQ buffered points, extra large buffers for visbility \n",
    "# need to be corrected for analyses\n",
    "ONAQ_insitu_gdf=gpd.GeoDataFrame(ONAQ_insitu_df,geometry=gpd.points_from_xy(\n",
    "    x=ONAQ_insitu_df.easting,y=ONAQ_insitu_df.northing),crs='epsg:32613')\n",
    "ONAQ_buffered_points=ONAQ_insitu_gdf.copy()\n",
    "ONAQ_buffered_points['geometry']=ONAQ_insitu_gdf.geometry.buffer(100)\n",
    "# ONAQ_buffered_points_path=os.path.join(\n",
    "#     'data','NEON','ONAQ','outputs')\n",
    "# ONAQ_buffered_points.to_file(os.path.join(\n",
    "#      ONAQ_buffered_points_path, 'ONAQ_buffered_points.shp'))\n"
   ]
  },
  {
   "cell_type": "code",
   "execution_count": 5,
   "metadata": {
    "ExecuteTime": {
     "end_time": "2020-04-29T21:13:54.493203Z",
     "start_time": "2020-04-29T21:13:54.490203Z"
    }
   },
   "outputs": [],
   "source": [
    "# No longer needed\n",
    "# CPER_sites=gpd.read_file(os.path.join(\n",
    "#     CPER_buffered_points_path, \n",
    "#     'CPER_buffered_points.shp'))\n",
    "# ONAQ_sites=gpd.read_file(os.path.join(\n",
    "#     ONAQ_buffered_points_path,\n",
    "#     'ONAQ_buffered_points.shp'))"
   ]
  },
  {
   "cell_type": "code",
   "execution_count": 6,
   "metadata": {
    "ExecuteTime": {
     "end_time": "2020-04-29T21:18:51.359858Z",
     "start_time": "2020-04-29T21:13:54.497205Z"
    }
   },
   "outputs": [],
   "source": [
    "# Create list of tile geometries(extents probably not needed... but just in case)\n",
    "CPER_tile_geometries, CPER_extents=polygons_from_raster(CPER_tif_files)\n",
    "ONAQ_tile_geometries,ONAQ_extents=polygons_from_raster(ONAQ_tif_files)"
   ]
  },
  {
   "cell_type": "code",
   "execution_count": 7,
   "metadata": {
    "ExecuteTime": {
     "end_time": "2020-04-29T21:18:51.368856Z",
     "start_time": "2020-04-29T21:18:51.363856Z"
    }
   },
   "outputs": [],
   "source": [
    "# sanity check cell\n",
    "# type(CPER_tile_geometries[19])"
   ]
  },
  {
   "cell_type": "code",
   "execution_count": 8,
   "metadata": {
    "ExecuteTime": {
     "end_time": "2020-04-29T21:18:53.195991Z",
     "start_time": "2020-04-29T21:18:51.372857Z"
    }
   },
   "outputs": [
    {
     "data": {
      "text/plain": [
       "<matplotlib.axes._subplots.AxesSubplot at 0x16c5bbaa308>"
      ]
     },
     "execution_count": 8,
     "metadata": {},
     "output_type": "execute_result"
    },
    {
     "data": {
      "image/png": "[encoded data removed]",
      "text/plain": [
       "<Figure size 432x288 with 2 Axes>"
      ]
     },
     "metadata": {
      "needs_background": "light"
     },
     "output_type": "display_data"
    }
   ],
   "source": [
    "# Test w/ Sarah's code\n",
    "res_union = gpd.overlay(CPER_tile_geometries[19], CPER_buffered_points, how='intersection')\n",
    "res_union1 = gpd.overlay(CPER_tile_geometries[0], CPER_buffered_points, how='intersection')\n",
    "fig, (ax1,ax2) = plt.subplots(1,2)\n",
    "CPER_buffered_points.plot(ax=ax1,color='black')\n",
    "res_union.plot(ax=ax1,\n",
    "              color='pink')\n",
    "CPER_buffered_points.plot(ax=ax2,color='black')\n",
    "res_union.plot(ax=ax2,\n",
    "              color='white')\n",
    "\n",
    "\n"
   ]
  },
  {
   "cell_type": "code",
   "execution_count": 9,
   "metadata": {
    "ExecuteTime": {
     "end_time": "2020-04-29T21:18:56.899262Z",
     "start_time": "2020-04-29T21:18:53.198993Z"
    }
   },
   "outputs": [],
   "source": [
    "overlapping_polygons=[]\n",
    "# Create variable to limit loop iterations\n",
    "x=0\n",
    "# loop through selection of tile_geometries\n",
    "for i in CPER_tile_geometries:\n",
    "    x+=1\n",
    "    if x<21:\n",
    "#check for overlap, only append overlapping sites\n",
    "        overlap_gdf=gpd.overlay(i,CPER_buffered_points,how='intersection')\n",
    "        if not len(overlap_gdf) == 0:\n",
    "#             how can we only append the geometry we need\n",
    "            overlapping_polygons.append(overlap_gdf)\n"
   ]
  },
  {
   "cell_type": "code",
   "execution_count": 10,
   "metadata": {
    "ExecuteTime": {
     "end_time": "2020-04-29T21:18:56.952265Z",
     "start_time": "2020-04-29T21:18:56.901263Z"
    }
   },
   "outputs": [
    {
     "data": {
      "text/html": [
       "<div>\n",
       "<style scoped>\n",
       "    .dataframe tbody tr th:only-of-type {\n",
       "        vertical-align: middle;\n",
       "    }\n",
       "\n",
       "    .dataframe tbody tr th {\n",
       "        vertical-align: top;\n",
       "    }\n",
       "\n",
       "    .dataframe thead th {\n",
       "        text-align: right;\n",
       "    }\n",
       "</style>\n",
       "<table border=\"1\" class=\"dataframe\">\n",
       "  <thead>\n",
       "    <tr style=\"text-align: right;\">\n",
       "      <th></th>\n",
       "      <th>plotID</th>\n",
       "      <th>decimalLatitude</th>\n",
       "      <th>decimalLongitude</th>\n",
       "      <th>easting</th>\n",
       "      <th>northing</th>\n",
       "      <th>individualID</th>\n",
       "      <th>height</th>\n",
       "      <th>scientificName</th>\n",
       "      <th>geometry</th>\n",
       "    </tr>\n",
       "  </thead>\n",
       "  <tbody>\n",
       "    <tr>\n",
       "      <th>0</th>\n",
       "      <td>CPER_020</td>\n",
       "      <td>40.785746</td>\n",
       "      <td>-104.707657</td>\n",
       "      <td>524665.95</td>\n",
       "      <td>4515014.39</td>\n",
       "      <td>NEON.PLA.D10.CPER.00139</td>\n",
       "      <td>0.5</td>\n",
       "      <td>Atriplex canescens (Pursh) Nutt.</td>\n",
       "      <td>POLYGON ((524567.112 4515000.000, 524764.788 4...</td>\n",
       "    </tr>\n",
       "    <tr>\n",
       "      <th>1</th>\n",
       "      <td>CPER_020</td>\n",
       "      <td>40.785746</td>\n",
       "      <td>-104.707657</td>\n",
       "      <td>524665.95</td>\n",
       "      <td>4515014.39</td>\n",
       "      <td>NEON.PLA.D10.CPER.00190</td>\n",
       "      <td>0.5</td>\n",
       "      <td>Atriplex canescens (Pursh) Nutt.</td>\n",
       "      <td>POLYGON ((524567.112 4515000.000, 524764.788 4...</td>\n",
       "    </tr>\n",
       "    <tr>\n",
       "      <th>2</th>\n",
       "      <td>CPER_020</td>\n",
       "      <td>40.785746</td>\n",
       "      <td>-104.707657</td>\n",
       "      <td>524665.95</td>\n",
       "      <td>4515014.39</td>\n",
       "      <td>NEON.PLA.D10.CPER.00185</td>\n",
       "      <td>0.3</td>\n",
       "      <td>Atriplex canescens (Pursh) Nutt.</td>\n",
       "      <td>POLYGON ((524567.112 4515000.000, 524764.788 4...</td>\n",
       "    </tr>\n",
       "    <tr>\n",
       "      <th>3</th>\n",
       "      <td>CPER_020</td>\n",
       "      <td>40.785746</td>\n",
       "      <td>-104.707657</td>\n",
       "      <td>524665.95</td>\n",
       "      <td>4515014.39</td>\n",
       "      <td>NEON.PLA.D10.CPER.00185</td>\n",
       "      <td>0.3</td>\n",
       "      <td>Atriplex canescens (Pursh) Nutt.</td>\n",
       "      <td>POLYGON ((524567.112 4515000.000, 524764.788 4...</td>\n",
       "    </tr>\n",
       "    <tr>\n",
       "      <th>4</th>\n",
       "      <td>CPER_020</td>\n",
       "      <td>40.785746</td>\n",
       "      <td>-104.707657</td>\n",
       "      <td>524665.95</td>\n",
       "      <td>4515014.39</td>\n",
       "      <td>NEON.PLA.D10.CPER.00185</td>\n",
       "      <td>0.3</td>\n",
       "      <td>Atriplex canescens (Pursh) Nutt.</td>\n",
       "      <td>POLYGON ((524567.112 4515000.000, 524764.788 4...</td>\n",
       "    </tr>\n",
       "    <tr>\n",
       "      <th>...</th>\n",
       "      <td>...</td>\n",
       "      <td>...</td>\n",
       "      <td>...</td>\n",
       "      <td>...</td>\n",
       "      <td>...</td>\n",
       "      <td>...</td>\n",
       "      <td>...</td>\n",
       "      <td>...</td>\n",
       "      <td>...</td>\n",
       "    </tr>\n",
       "    <tr>\n",
       "      <th>80</th>\n",
       "      <td>CPER_020</td>\n",
       "      <td>40.785746</td>\n",
       "      <td>-104.707657</td>\n",
       "      <td>524665.95</td>\n",
       "      <td>4515014.39</td>\n",
       "      <td>NEON.PLA.D10.CPER.00129</td>\n",
       "      <td>0.5</td>\n",
       "      <td>Atriplex canescens (Pursh) Nutt.</td>\n",
       "      <td>POLYGON ((524567.112 4515000.000, 524764.788 4...</td>\n",
       "    </tr>\n",
       "    <tr>\n",
       "      <th>81</th>\n",
       "      <td>CPER_020</td>\n",
       "      <td>40.785746</td>\n",
       "      <td>-104.707657</td>\n",
       "      <td>524665.95</td>\n",
       "      <td>4515014.39</td>\n",
       "      <td>NEON.PLA.D10.CPER.00190</td>\n",
       "      <td>0.5</td>\n",
       "      <td>Atriplex canescens (Pursh) Nutt.</td>\n",
       "      <td>POLYGON ((524567.112 4515000.000, 524764.788 4...</td>\n",
       "    </tr>\n",
       "    <tr>\n",
       "      <th>82</th>\n",
       "      <td>CPER_020</td>\n",
       "      <td>40.785746</td>\n",
       "      <td>-104.707657</td>\n",
       "      <td>524665.95</td>\n",
       "      <td>4515014.39</td>\n",
       "      <td>NEON.PLA.D10.CPER.00188</td>\n",
       "      <td>0.7</td>\n",
       "      <td>Atriplex canescens (Pursh) Nutt.</td>\n",
       "      <td>POLYGON ((524567.112 4515000.000, 524764.788 4...</td>\n",
       "    </tr>\n",
       "    <tr>\n",
       "      <th>83</th>\n",
       "      <td>CPER_020</td>\n",
       "      <td>40.785746</td>\n",
       "      <td>-104.707657</td>\n",
       "      <td>524665.95</td>\n",
       "      <td>4515014.39</td>\n",
       "      <td>NEON.PLA.D10.CPER.00188</td>\n",
       "      <td>0.7</td>\n",
       "      <td>Atriplex canescens (Pursh) Nutt.</td>\n",
       "      <td>POLYGON ((524567.112 4515000.000, 524764.788 4...</td>\n",
       "    </tr>\n",
       "    <tr>\n",
       "      <th>84</th>\n",
       "      <td>CPER_020</td>\n",
       "      <td>40.785746</td>\n",
       "      <td>-104.707657</td>\n",
       "      <td>524665.95</td>\n",
       "      <td>4515014.39</td>\n",
       "      <td>NEON.PLA.D10.CPER.00188</td>\n",
       "      <td>0.7</td>\n",
       "      <td>Atriplex canescens (Pursh) Nutt.</td>\n",
       "      <td>POLYGON ((524567.112 4515000.000, 524764.788 4...</td>\n",
       "    </tr>\n",
       "  </tbody>\n",
       "</table>\n",
       "<p>85 rows × 9 columns</p>\n",
       "</div>"
      ],
      "text/plain": [
       "      plotID  decimalLatitude  decimalLongitude    easting    northing  \\\n",
       "0   CPER_020        40.785746       -104.707657  524665.95  4515014.39   \n",
       "1   CPER_020        40.785746       -104.707657  524665.95  4515014.39   \n",
       "2   CPER_020        40.785746       -104.707657  524665.95  4515014.39   \n",
       "3   CPER_020        40.785746       -104.707657  524665.95  4515014.39   \n",
       "4   CPER_020        40.785746       -104.707657  524665.95  4515014.39   \n",
       "..       ...              ...               ...        ...         ...   \n",
       "80  CPER_020        40.785746       -104.707657  524665.95  4515014.39   \n",
       "81  CPER_020        40.785746       -104.707657  524665.95  4515014.39   \n",
       "82  CPER_020        40.785746       -104.707657  524665.95  4515014.39   \n",
       "83  CPER_020        40.785746       -104.707657  524665.95  4515014.39   \n",
       "84  CPER_020        40.785746       -104.707657  524665.95  4515014.39   \n",
       "\n",
       "               individualID  height                    scientificName  \\\n",
       "0   NEON.PLA.D10.CPER.00139     0.5  Atriplex canescens (Pursh) Nutt.   \n",
       "1   NEON.PLA.D10.CPER.00190     0.5  Atriplex canescens (Pursh) Nutt.   \n",
       "2   NEON.PLA.D10.CPER.00185     0.3  Atriplex canescens (Pursh) Nutt.   \n",
       "3   NEON.PLA.D10.CPER.00185     0.3  Atriplex canescens (Pursh) Nutt.   \n",
       "4   NEON.PLA.D10.CPER.00185     0.3  Atriplex canescens (Pursh) Nutt.   \n",
       "..                      ...     ...                               ...   \n",
       "80  NEON.PLA.D10.CPER.00129     0.5  Atriplex canescens (Pursh) Nutt.   \n",
       "81  NEON.PLA.D10.CPER.00190     0.5  Atriplex canescens (Pursh) Nutt.   \n",
       "82  NEON.PLA.D10.CPER.00188     0.7  Atriplex canescens (Pursh) Nutt.   \n",
       "83  NEON.PLA.D10.CPER.00188     0.7  Atriplex canescens (Pursh) Nutt.   \n",
       "84  NEON.PLA.D10.CPER.00188     0.7  Atriplex canescens (Pursh) Nutt.   \n",
       "\n",
       "                                             geometry  \n",
       "0   POLYGON ((524567.112 4515000.000, 524764.788 4...  \n",
       "1   POLYGON ((524567.112 4515000.000, 524764.788 4...  \n",
       "2   POLYGON ((524567.112 4515000.000, 524764.788 4...  \n",
       "3   POLYGON ((524567.112 4515000.000, 524764.788 4...  \n",
       "4   POLYGON ((524567.112 4515000.000, 524764.788 4...  \n",
       "..                                                ...  \n",
       "80  POLYGON ((524567.112 4515000.000, 524764.788 4...  \n",
       "81  POLYGON ((524567.112 4515000.000, 524764.788 4...  \n",
       "82  POLYGON ((524567.112 4515000.000, 524764.788 4...  \n",
       "83  POLYGON ((524567.112 4515000.000, 524764.788 4...  \n",
       "84  POLYGON ((524567.112 4515000.000, 524764.788 4...  \n",
       "\n",
       "[85 rows x 9 columns]"
      ]
     },
     "execution_count": 10,
     "metadata": {},
     "output_type": "execute_result"
    }
   ],
   "source": [
    "overlapping_polygons[0]"
   ]
  },
  {
   "cell_type": "code",
   "execution_count": 11,
   "metadata": {
    "ExecuteTime": {
     "end_time": "2020-04-29T21:18:56.958269Z",
     "start_time": "2020-04-29T21:18:56.955267Z"
    }
   },
   "outputs": [],
   "source": [
    "# Old code, CPER_sites can be replaced with CPER_buffered_points\n",
    "# fig, (ax1,ax2,ax3) = plt.subplots(1,3,figsize=(15,8))\n",
    "# CPER_sites.plot(ax=ax1,color='black')\n",
    "# overlapping_polygons[19].plot(ax=ax1,\n",
    "#               color='red')\n",
    "# CPER_sites.plot(ax=ax2,color='black')\n",
    "# overlapping_polygons[19].plot(ax=ax2,\n",
    "#               color='white')\n",
    "# overlapping_polygons[19].plot(ax=ax3)"
   ]
  }
 ],
 "metadata": {
  "kernelspec": {
   "display_name": "Python 3",
   "language": "python",
   "name": "python3"
  },
  "language_info": {
   "codemirror_mode": {
    "name": "ipython",
    "version": 3
   },
   "file_extension": ".py",
   "mimetype": "text/x-python",
   "name": "python",
   "nbconvert_exporter": "python",
   "pygments_lexer": "ipython3",
   "version": "3.7.6"
  },
  "toc": {
   "base_numbering": 1,
   "nav_menu": {},
   "number_sections": true,
   "sideBar": true,
   "skip_h1_title": false,
   "title_cell": "Table of Contents",
   "title_sidebar": "Contents",
   "toc_cell": false,
   "toc_position": {},
   "toc_section_display": true,
   "toc_window_display": false
  }
 },
 "nbformat": 4,
 "nbformat_minor": 4
}
