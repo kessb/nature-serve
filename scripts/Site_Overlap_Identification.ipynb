{
 "cells": [
  {
   "cell_type": "code",
   "execution_count": 1,
   "metadata": {
    "ExecuteTime": {
     "end_time": "2020-04-29T06:41:54.366814Z",
     "start_time": "2020-04-29T06:41:52.423672Z"
    }
   },
   "outputs": [],
   "source": [
    "# Import Packages\n",
    " \n",
    "import os\n",
    "from glob import glob\n",
    "import matplotlib.pyplot as plt\n",
    "import requests\n",
    "import urllib\n",
    "import pandas as pd\n",
    "from pandas.io.json import json_normalize\n",
    "import rasterstats as rs\n",
    "import numpy as np\n",
    "import pandas as pd\n",
    "import geopandas as gpd\n",
    "from shapely.geometry import shape\n",
    "from shapely.geometry import Polygon\n",
    "from shapely.geometry import box\n",
    "from shapely.geometry import Point\n",
    "import rasterio as rio\n",
    "from rasterio.mask import mask\n",
    "from rasterio.plot import plotting_extent\n",
    "import rasterstats as rs\n",
    "import earthpy as et\n",
    "import earthpy.plot as ep\n",
    "%run ./data_grabber.ipynb\n"
   ]
  },
  {
   "cell_type": "code",
   "execution_count": 2,
   "metadata": {
    "ExecuteTime": {
     "end_time": "2020-04-29T06:41:54.377817Z",
     "start_time": "2020-04-29T06:41:54.368816Z"
    }
   },
   "outputs": [],
   "source": [
    "def polygons_from_raster(tiles):\n",
    "    '''Takes a list of raster images, \n",
    "    ideally tiles from one site, and \n",
    "    creates a list of geodataframes\n",
    "    with raster plot extent as the \n",
    "    site geometry.\n",
    "    ----------\n",
    "    tiles : list\n",
    "        List of rasters\n",
    "    Returns\n",
    "    -------\n",
    "    CHM_tile_gdfs : list\n",
    "        List of geodataframes with raster plot\n",
    "        extent polygons in gdf format\n",
    "    '''\n",
    "    CHM_tile_gdfs=[]\n",
    "    for tile in tiles:\n",
    "        with rio.open(tile) as src:\n",
    "            extent=plotting_extent(src)\n",
    "    #raster polygon uses plotting extent for tif (chmCPERextent is plot extent)\n",
    "        tile_polygon = Polygon([[extent[0], extent[2]],\n",
    "                                  [extent[0], extent[3]],\n",
    "                                  [extent[1],extent[3]],\n",
    "                                  [extent[1],extent[2]]])\n",
    "\n",
    "\n",
    "    # Making geodataframe from newly made polygon\n",
    "        CHM_gdf = gpd.GeoDataFrame(crs=src.crs, geometry=[tile_polygon])\n",
    "        CHM_tile_gdfs.append(CHM_gdf)\n",
    "    return CHM_tile_gdfs"
   ]
  },
  {
   "cell_type": "code",
   "execution_count": 3,
   "metadata": {
    "ExecuteTime": {
     "end_time": "2020-04-29T06:42:08.727019Z",
     "start_time": "2020-04-29T06:41:54.380818Z"
    }
   },
   "outputs": [],
   "source": [
    "# Set working directory\n",
    "os.chdir(os.path.join(et.io.HOME,'earth-analytics'))\n",
    "\n",
    "# Get data\n",
    "CPER_tif_files=open_ecosystem_structure('CPER','2017-05')\n",
    "CPER_insitu_df=open_woody_veg_structure('CPER','2017-09')\n",
    "ONAQ_tif_files=open_ecosystem_structure('ONAQ','2017-06')\n",
    "ONAQ_insitu_df=open_woody_veg_structure('ONAQ','2017-09')"
   ]
  },
  {
   "cell_type": "code",
   "execution_count": 4,
   "metadata": {
    "ExecuteTime": {
     "end_time": "2020-04-29T06:42:09.705089Z",
     "start_time": "2020-04-29T06:42:08.730018Z"
    }
   },
   "outputs": [],
   "source": [
    "# Create shapefile of buffered insitu sites\n",
    "\n",
    "# CPER buffered points\n",
    "CPER_insitu_gdf=gpd.GeoDataFrame(CPER_insitu_df,geometry=gpd.points_from_xy(\n",
    "    x=CPER_insitu_df.easting,y=CPER_insitu_df.northing),crs='epsg:32613')\n",
    "CPER_buffered_points=CPER_insitu_gdf.copy()\n",
    "CPER_buffered_points=CPER_insitu_gdf.geometry.buffer(100)\n",
    "CPER_buffered_points_path=os.path.join(\n",
    "    'data','NEON','CPER','outputs')\n",
    "ONAQ_buffered_points_path=os.path.join(\n",
    "    'data','NEON','ONAQ','outputs')\n",
    "\n",
    "#ONAQ buffered points\n",
    "ONAQ_insitu_gdf=gpd.GeoDataFrame(ONAQ_insitu_df,geometry=gpd.points_from_xy(\n",
    "    x=ONAQ_insitu_df.easting,y=ONAQ_insitu_df.northing),crs='epsg:32613')\n",
    "ONAQ_buffered_points=ONAQ_insitu_gdf.copy()\n",
    "ONAQ_buffered_points=ONAQ_insitu_gdf.geometry.buffer(20)\n",
    "ONAQ_buffered_points_path=os.path.join(\n",
    "    'data','NEON','ONAQ','outputs')\n",
    "ONAQ_buffered_points.to_file(os.path.join(\n",
    "     ONAQ_buffered_points_path, 'ONAQ_buffered_points.shp'))"
   ]
  },
  {
   "cell_type": "code",
   "execution_count": 5,
   "metadata": {
    "ExecuteTime": {
     "end_time": "2020-04-29T06:45:22.506887Z",
     "start_time": "2020-04-29T06:42:09.707090Z"
    }
   },
   "outputs": [],
   "source": [
    "# Create list of tile geometries \n",
    "CPER_tile_geometries=polygons_from_raster(CPER_tif_files)\n",
    "ONAQ_tile_geometries=polygons_from_raster(ONAQ_tif_files)"
   ]
  },
  {
   "cell_type": "code",
   "execution_count": 6,
   "metadata": {
    "ExecuteTime": {
     "end_time": "2020-04-29T06:45:22.519886Z",
     "start_time": "2020-04-29T06:45:22.509885Z"
    }
   },
   "outputs": [
    {
     "data": {
      "text/plain": [
       "(290, 185)"
      ]
     },
     "execution_count": 6,
     "metadata": {},
     "output_type": "execute_result"
    }
   ],
   "source": [
    "# check lengths\n",
    "len(CPER_tile_geometries),len(ONAQ_tile_geometries)"
   ]
  },
  {
   "cell_type": "code",
   "execution_count": 7,
   "metadata": {
    "ExecuteTime": {
     "end_time": "2020-04-29T06:45:22.529886Z",
     "start_time": "2020-04-29T06:45:22.524887Z"
    }
   },
   "outputs": [],
   "source": [
    "# Loop to test intersect\n",
    "#dict={}\n",
    "# for i in CPER_tile_geometries:\n",
    "### PSEUDOCODE ###\n",
    "#     try:\n",
    "#         union with buffer\n",
    "#         dift[df[plotID]]={lidartile}\n",
    "#     except ValueError:\n",
    "#         print('No sites within tile')"
   ]
  },
  {
   "cell_type": "code",
   "execution_count": null,
   "metadata": {},
   "outputs": [],
   "source": [
    "# rs.zonal code to calculate lidar stats on areas intersecting insitu data\n",
    "###PSEUDO"
   ]
  },
  {
   "cell_type": "code",
   "execution_count": 10,
   "metadata": {
    "ExecuteTime": {
     "end_time": "2020-04-29T06:45:56.723992Z",
     "start_time": "2020-04-29T06:45:56.535978Z"
    }
   },
   "outputs": [
    {
     "data": {
      "text/plain": [
       "<matplotlib.axes._subplots.AxesSubplot at 0x1d941a5b908>"
      ]
     },
     "execution_count": 10,
     "metadata": {},
     "output_type": "execute_result"
    },
    {
     "data": {
      "image/png": "[encoded data removed]",
      "text/plain": [
       "<Figure size 432x288 with 1 Axes>"
      ]
     },
     "metadata": {
      "needs_background": "light"
     },
     "output_type": "display_data"
    }
   ],
   "source": [
    "ONAQ_tile_geometries[56].plot()"
   ]
  }
 ],
 "metadata": {
  "kernelspec": {
   "display_name": "Python 3",
   "language": "python",
   "name": "python3"
  },
  "language_info": {
   "codemirror_mode": {
    "name": "ipython",
    "version": 3
   },
   "file_extension": ".py",
   "mimetype": "text/x-python",
   "name": "python",
   "nbconvert_exporter": "python",
   "pygments_lexer": "ipython3",
   "version": "3.7.6"
  },
  "toc": {
   "base_numbering": 1,
   "nav_menu": {},
   "number_sections": true,
   "sideBar": true,
   "skip_h1_title": false,
   "title_cell": "Table of Contents",
   "title_sidebar": "Contents",
   "toc_cell": false,
   "toc_position": {},
   "toc_section_display": true,
   "toc_window_display": false
  }
 },
 "nbformat": 4,
 "nbformat_minor": 4
}
