{
 "cells": [
  {
   "cell_type": "code",
   "execution_count": 1,
   "metadata": {
    "ExecuteTime": {
     "end_time": "2020-04-27T20:30:01.446563Z",
     "start_time": "2020-04-27T20:29:59.490419Z"
    }
   },
   "outputs": [],
   "source": [
    "# Import Packages\n",
    "import os\n",
    "from glob import glob\n",
    "import matplotlib.pyplot as plt\n",
    "import requests\n",
    "# import descartes\n",
    "import urllib\n",
    "import pandas as pd\n",
    "from pandas.io.json import json_normalize\n",
    "import geopandas as gpd\n",
    "import rasterio as rio\n",
    "from rasterio.plot import plotting_extent\n",
    "import rasterstats as rs\n",
    "from shapely.geometry import Point\n",
    "import earthpy as et\n",
    "import earthpy.plot as ep\n",
    "%run ./data_grabber.ipynb\n"
   ]
  },
  {
   "cell_type": "code",
   "execution_count": 2,
   "metadata": {
    "ExecuteTime": {
     "end_time": "2020-04-27T20:30:07.530146Z",
     "start_time": "2020-04-27T20:30:01.450567Z"
    }
   },
   "outputs": [],
   "source": [
    "# Set working directory\n",
    "os.chdir(os.path.join(et.io.HOME,'earth-analytics'))\n",
    "\n",
    "# Get data\n",
    "CPER_tif_files=open_ecosystem_structure('CPER','2017-05')\n",
    "CPER_insitu_df=open_woody_veg_structure('CPER','2017-09')\n",
    "ONAQ_tif_files=open_ecosystem_structure('ONAQ','2017-06')\n",
    "ONAQ_insitu_df=open_woody_veg_structure('ONAQ','2017-09')"
   ]
  },
  {
   "cell_type": "code",
   "execution_count": 3,
   "metadata": {
    "ExecuteTime": {
     "end_time": "2020-04-27T20:30:07.775164Z",
     "start_time": "2020-04-27T20:30:07.533147Z"
    }
   },
   "outputs": [],
   "source": [
    "# Create shapefile of buffered insitu sites\n",
    "CPER_insitu_gdf=gpd.GeoDataFrame(CPER_insitu_df,geometry=gpd.points_from_xy(\n",
    "    x=CPER_insitu_df.easting,y=CPER_insitu_df.northing),crs='epsg:32613')\n",
    "CPER_buffered_points=CPER_insitu_gdf.copy()\n",
    "CPER_buffered_points=CPER_insitu_gdf.geometry.buffer(100)\n",
    "CPER_buffered_points_path=os.path.join(\n",
    "    'data','NEON','CPER','outputs')\n",
    "ONAQ_insitu_gdf=gpd.GeoDataFrame(ONAQ_insitu_df,geometry=gpd.points_from_xy(\n",
    "    x=ONAQ_insitu_df.easting,y=ONAQ_insitu_df.northing),crs='epsg:32613')\n",
    "ONAQ_buffered_points=ONAQ_insitu_gdf.copy()\n",
    "ONAQ_buffered_points=ONAQ_insitu_gdf.geometry.buffer(100)\n",
    "ONAQ_buffered_points_path=os.path.join(\n",
    "    'data','NEON','ONAQ','outputs')\n",
    "# ONAQ_buffered_points.to_file(os.path.join(\n",
    "#      buffered_points_path, 'ONAQ_buffered_points.shp'))"
   ]
  },
  {
   "cell_type": "code",
   "execution_count": 11,
   "metadata": {
    "ExecuteTime": {
     "end_time": "2020-04-27T20:33:25.429961Z",
     "start_time": "2020-04-27T20:33:22.921776Z"
    }
   },
   "outputs": [],
   "source": [
    " with rio.open(CPER_tif_files[184]) as src:\n",
    "        CHM_arr=src.read(1,masked=True)\n",
    "        extent=src.bounds\n",
    "        CHM_meta=src.profile\n",
    "        extent=plotting_extent(src)"
   ]
  },
  {
   "cell_type": "code",
   "execution_count": 12,
   "metadata": {
    "ExecuteTime": {
     "end_time": "2020-04-27T20:33:25.764988Z",
     "start_time": "2020-04-27T20:33:25.431962Z"
    }
   },
   "outputs": [
    {
     "data": {
      "image/png": "[encoded data removed]",
      "text/plain": [
       "<Figure size 864x864 with 2 Axes>"
      ]
     },
     "metadata": {
      "needs_background": "light"
     },
     "output_type": "display_data"
    },
    {
     "data": {
      "text/plain": [
       "<matplotlib.axes._subplots.AxesSubplot at 0x1f9c55b4e88>"
      ]
     },
     "execution_count": 12,
     "metadata": {},
     "output_type": "execute_result"
    }
   ],
   "source": [
    "# buffered_points_import=gpd.read_file(buffered_points_shp)\n",
    "# 0 overlaps slightly\n",
    "# fig, ax = plt.subplots()\n",
    "ep.plot_bands(CHM_arr,cmap='BrBG')\n",
    "#          extent=extent)\n",
    "# CPER_buffered_points.plot(ax=ax,\n",
    "#                             color='yellow')\n",
    "\n",
    "\n",
    "# arr.max()\n"
   ]
  },
  {
   "cell_type": "code",
   "execution_count": null,
   "metadata": {
    "ExecuteTime": {
     "end_time": "2020-04-27T20:30:10.402366Z",
     "start_time": "2020-04-27T20:29:59.469Z"
    }
   },
   "outputs": [],
   "source": [
    "x=0\n",
    "for tif_file in tif_files:\n",
    "    with rio.open(i) as src:\n",
    "        CHM_arr=src.read(1,masked=True)\n",
    "        extent=src.bounds\n",
    "        CHM_meta=src.profile\n",
    "    CPER_tree_heights = rs.zonal_stats(buffered_points_shp,\n",
    "                                       CHM_arr,\n",
    "                                       nodata=-999,\n",
    "                                       affine=CHM_meta['transform'],\n",
    "                                       geojson_out=True,\n",
    "                                       copy_properties=True,\n",
    "                                       stats=['count', 'min', 'mean','max','median'])\n",
    "    for i in CPER_tree_heights:\n",
    "        if not i['properties']['max'] == None:\n",
    "            x+=1\n",
    "            print(i['properties']['max'],x)"
   ]
  }
 ],
 "metadata": {
  "kernelspec": {
   "display_name": "Python 3",
   "language": "python",
   "name": "python3"
  },
  "language_info": {
   "codemirror_mode": {
    "name": "ipython",
    "version": 3
   },
   "file_extension": ".py",
   "mimetype": "text/x-python",
   "name": "python",
   "nbconvert_exporter": "python",
   "pygments_lexer": "ipython3",
   "version": "3.7.6"
  },
  "toc": {
   "base_numbering": 1,
   "nav_menu": {},
   "number_sections": true,
   "sideBar": true,
   "skip_h1_title": false,
   "title_cell": "Table of Contents",
   "title_sidebar": "Contents",
   "toc_cell": false,
   "toc_position": {},
   "toc_section_display": true,
   "toc_window_display": false
  }
 },
 "nbformat": 4,
 "nbformat_minor": 4
}
